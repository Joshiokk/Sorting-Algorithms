{
 "cells": [
  {
   "cell_type": "markdown",
   "metadata": {},
   "source": [
    "># Sorting Algorithms\n",
    "   *With **Time Complexity** Testing*\n",
    "\n",
    "\n",
    "### Part 1\n",
    "* [SelectionSort](#Selection)\n",
    "* [BubbleSort](#Bubble)\n",
    "* [InsertionSort](#Insertion)\n",
    "* [MergeSort](#Merge)\n",
    "* [QuickSort](#Quick)\n",
    "\n",
    "\n",
    "### Part 2\n",
    "* [Time Complexity Testing](#the_destination)\n",
    "\n",
    "\n",
    "\n",
    "| SelectionSort | BubbleSort | InsertionSort | MergeSort | QuickSort |\n",
    "|---------------|------------|---------------|-----------|-----------|\n",
    "|   $n^2$       | $n^2$      |   $n^2$       |  $nlogn$  |  $nlogn$  |\n",
    "\n",
    "\n",
    "As indicated in the table **above**"
   ]
  },
  {
   "cell_type": "markdown",
   "metadata": {},
   "source": [
    "<a id='Selectioin'></a>\n",
    "> ### Selection Sort"
   ]
  },
  {
   "cell_type": "code",
   "execution_count": 1,
   "metadata": {},
   "outputs": [],
   "source": [
    "#Selection Sort\n",
    "    #select min value\n",
    "    #swap\n",
    "    #loop through the rest of the Array\n",
    "    \n",
    "def SelectionSort(A,n):\n",
    "    for i in range(n):\n",
    "        Min = i\n",
    "        for j in range(i+1,n):\n",
    "            if A[Min] > A[j]:\n",
    "                Min = j\n",
    "        \n",
    "        temp = A[i]\n",
    "        A[i] = A[Min]\n",
    "        A[Min] = temp\n",
    "\n",
    "     "
   ]
  },
  {
   "cell_type": "code",
   "execution_count": 2,
   "metadata": {},
   "outputs": [
    {
     "name": "stdout",
     "output_type": "stream",
     "text": [
      "Please input an array of integers(seperated by spaces): 9 7 5 3 1 8 6 4 2\n",
      "Before sorting: \n",
      "[9, 7, 5, 3, 1, 8, 6, 4, 2]\n",
      "After sorting: \n",
      "[1, 2, 3, 4, 5, 6, 7, 8, 9]\n"
     ]
    }
   ],
   "source": [
    "#implementation of Selection Sort\n",
    "\n",
    "x = input(\"Please input an array of integers(seperated by spaces): \")\n",
    "A = []\n",
    "A = (x.split(\" \"))\n",
    "n = len(A)\n",
    "for i in range(n):\n",
    "    A[i] = int(A[i])\n",
    "print(\"Before sorting: \")\n",
    "print(A)\n",
    "SelectionSort(A,n)\n",
    "print(\"After sorting: \")\n",
    "print(A)"
   ]
  },
  {
   "cell_type": "markdown",
   "metadata": {},
   "source": [
    "<a id='Bubble'></a>\n",
    "> ### Bubble Sort"
   ]
  },
  {
   "cell_type": "code",
   "execution_count": 3,
   "metadata": {},
   "outputs": [],
   "source": [
    "#Bubble Sort\n",
    "    #Perform \"Neighbour Comparison\"\n",
    "    #Heavier elements goes down, lighter elements comes up(like bubbles)\n",
    "    #\"flag\" used to determine whether the array is already sorted\n",
    "def BubbleSort(A,n):\n",
    "    for i in range(n):\n",
    "        flag = 0\n",
    "        for j in range(0,n-i-1):\n",
    "            if A[j] < A[j+1]:\n",
    "                \n",
    "                temp = A[j]\n",
    "                A[j] = A[j+1]\n",
    "                A[j+1] = temp\n",
    "                \n",
    "                flag = 1\n",
    "        if flag == 0:\n",
    "            break"
   ]
  },
  {
   "cell_type": "code",
   "execution_count": 4,
   "metadata": {},
   "outputs": [
    {
     "name": "stdout",
     "output_type": "stream",
     "text": [
      "Please input an array of integers(seperated by spaces): 9 7 5 3 1 8 6 4 2\n",
      "Before sorting: \n",
      "[9, 7, 5, 3, 1, 8, 6, 4, 2]\n",
      "After sorting: \n",
      "[9, 8, 7, 6, 5, 4, 3, 2, 1]\n"
     ]
    }
   ],
   "source": [
    "#implementation of Bubble Sort\n",
    "\n",
    "x = input(\"Please input an array of integers(seperated by spaces): \")\n",
    "A = []\n",
    "A = (x.split(\" \"))\n",
    "n = len(A)\n",
    "for i in range(n):\n",
    "    A[i] = int(A[i])\n",
    "print(\"Before sorting: \")\n",
    "print(A)\n",
    "BubbleSort(A,n)\n",
    "print(\"After sorting: \")\n",
    "print(A)"
   ]
  },
  {
   "cell_type": "markdown",
   "metadata": {},
   "source": [
    "<a id='Insertion'></a>"
   ]
  },
  {
   "cell_type": "code",
   "execution_count": 5,
   "metadata": {},
   "outputs": [],
   "source": [
    "#Insertion Sort\n",
    "    #Set a \"hole\", assign the value being inserted to \"hole\"\n",
    "    #use \"hole\" to make room for the value\n",
    "    #insert the value to the \"hole\" created in the array\n",
    "    \n",
    "def InsertionSort(A,n):\n",
    "    for i in range(n):\n",
    "        for j in range(i+1,n):\n",
    "            hole = j \n",
    "            value = A[j]\n",
    "            while hole > 0 and value < A[hole-1] :\n",
    "                A[hole] = A[hole-1]\n",
    "                hole = hole-1\n",
    "            A[hole] = value"
   ]
  },
  {
   "cell_type": "code",
   "execution_count": 6,
   "metadata": {},
   "outputs": [
    {
     "name": "stdout",
     "output_type": "stream",
     "text": [
      "Please input an array of integers(seperated by spaces): 9 7 5 3 1 8 6 4 2\n",
      "Before sorting: \n",
      "[9, 7, 5, 3, 1, 8, 6, 4, 2]\n",
      "After sorting: \n",
      "[1, 2, 3, 4, 5, 6, 7, 8, 9]\n"
     ]
    }
   ],
   "source": [
    "#implementation of Insertion Sort\n",
    "\n",
    "x = input(\"Please input an array of integers(seperated by spaces): \")\n",
    "A = []\n",
    "A = (x.split(\" \"))\n",
    "n = len(A)\n",
    "for i in range(n):\n",
    "    A[i] = int(A[i])\n",
    "print(\"Before sorting: \")\n",
    "print(A)\n",
    "InsertionSort(A,n)\n",
    "print(\"After sorting: \")\n",
    "print(A)"
   ]
  },
  {
   "cell_type": "markdown",
   "metadata": {},
   "source": [
    "<a id='Merge'></a>\n",
    "> ### Merge Sort"
   ]
  },
  {
   "cell_type": "code",
   "execution_count": 7,
   "metadata": {},
   "outputs": [],
   "source": [
    "#Merge Sort\n",
    "    #Seperate the list in the middle\n",
    "    #Create two lists L&R\n",
    "    #Assign values\n",
    "    #Merge Sort L&R\n",
    "    #Merge\n",
    "    \n",
    "def Merge(A,p,m,q):\n",
    "    L = []\n",
    "    R = []\n",
    "    for k in range(p,m+1):\n",
    "        L.append(A[k])\n",
    "    for k in range(m+1,q+1):\n",
    "        R.append(A[k])\n",
    "        \n",
    "    nL = len(L)\n",
    "    nR = len(R)\n",
    "    i = 0\n",
    "    j = 0\n",
    "    k = 0\n",
    "    while(i < nL and j < nR):\n",
    "        if L[i] > R[j]:\n",
    "            A[p+k] = R[j]\n",
    "            j += 1\n",
    "            k += 1\n",
    "        else:\n",
    "            A[p+k] = L[i]\n",
    "            i += 1\n",
    "            k += 1\n",
    "    while(i < nL):\n",
    "        A[p+k] = L[i]\n",
    "        i += 1\n",
    "        k += 1\n",
    "    while(j < nR):\n",
    "        A[p+k] = R[j]\n",
    "        j += 1\n",
    "        k += 1\n"
   ]
  },
  {
   "cell_type": "code",
   "execution_count": 8,
   "metadata": {},
   "outputs": [],
   "source": [
    "#Merge Sort\n",
    "    #Two lists, compare one by one, append the smaller\n",
    "    #When run out of one list, append the rest in the other one\n",
    "    \n",
    "def MergeSort(A,p,q):\n",
    "    if p == q:\n",
    "        return \n",
    "    mid = int((p+q)/2)\n",
    "    MergeSort(A,p,mid)\n",
    "    MergeSort(A,mid+1,q)\n",
    "    Merge(A,p,mid,q)"
   ]
  },
  {
   "cell_type": "code",
   "execution_count": 9,
   "metadata": {},
   "outputs": [
    {
     "name": "stdout",
     "output_type": "stream",
     "text": [
      "Please input an array of integers(seperated by spaces): 9 7 5 3 1 8 6 4 2\n",
      "Before sorting: \n",
      "[9, 7, 5, 3, 1, 8, 6, 4, 2]\n",
      "After sorting: \n",
      "[1, 2, 3, 4, 5, 6, 7, 8, 9]\n"
     ]
    }
   ],
   "source": [
    "#implementation of MergeSort\n",
    "\n",
    "x = input(\"Please input an array of integers(seperated by spaces): \")\n",
    "A = []\n",
    "A = (x.split(\" \"))\n",
    "n = len(A)\n",
    "for i in range(n):\n",
    "    A[i] = int(A[i])\n",
    "print(\"Before sorting: \")\n",
    "print(A)\n",
    "MergeSort(A,0,n-1)\n",
    "print(\"After sorting: \")\n",
    "print(A)"
   ]
  },
  {
   "cell_type": "code",
   "execution_count": 10,
   "metadata": {},
   "outputs": [],
   "source": [
    "#Merge(alt)\n",
    "    #alternative solution using append. Larger space complexity, less index pointing. Just for fun :)\n",
    "    \n",
    "def Merge_alt(L,R):\n",
    "    nL = len(L)\n",
    "    nR = len(R)\n",
    "    A = []\n",
    "    i = 0\n",
    "    j = 0\n",
    "    while(i < nL and j < nR):\n",
    "        if L[i] > R[j]:\n",
    "            A.append(R[j])\n",
    "            j += 1\n",
    "        else:\n",
    "            A.append(L[i])\n",
    "            i += 1\n",
    "    while(i < nL):\n",
    "        A.append(L[i])\n",
    "        i += 1\n",
    "    while(j < nR):\n",
    "        A.append(R[j])\n",
    "        j += 1\n",
    "    return A"
   ]
  },
  {
   "cell_type": "code",
   "execution_count": 11,
   "metadata": {},
   "outputs": [],
   "source": [
    "#Merge Sort(alt)\n",
    "\n",
    "def MergeSort_alt(A,n):\n",
    "    if n == 1:\n",
    "        return A\n",
    "    else:\n",
    "        L = []\n",
    "        R = []\n",
    "        mid = int(n/2)\n",
    "        for i in range(mid):\n",
    "            L.append(A[i])\n",
    "        for i in range(mid,n):\n",
    "            R.append(A[i])\n",
    "        return Merge_alt(MergeSort_alt(R,n-mid),MergeSort_alt(L,mid))"
   ]
  },
  {
   "cell_type": "code",
   "execution_count": 12,
   "metadata": {},
   "outputs": [
    {
     "name": "stdout",
     "output_type": "stream",
     "text": [
      "Please input an array of integers(seperated by spaces): 9 7 5 3 1 8 6 4 2\n",
      "Before sorting: \n",
      "[9, 7, 5, 3, 1, 8, 6, 4, 2]\n",
      "After sorting: \n",
      "[1, 2, 3, 4, 5, 6, 7, 8, 9]\n"
     ]
    }
   ],
   "source": [
    "#implementation of Merge Sort(alt)\n",
    "\n",
    "x = input(\"Please input an array of integers(seperated by spaces): \")\n",
    "A = []\n",
    "A = (x.split(\" \"))\n",
    "n = len(A)\n",
    "for i in range(n):\n",
    "    A[i] = int(A[i])\n",
    "print(\"Before sorting: \")\n",
    "print(A)\n",
    "print(\"After sorting: \")\n",
    "print(MergeSort_alt(A,n))"
   ]
  },
  {
   "cell_type": "markdown",
   "metadata": {},
   "source": [
    "<a id='Quick'></a>\n",
    "> ### Quick Sort"
   ]
  },
  {
   "cell_type": "code",
   "execution_count": 13,
   "metadata": {},
   "outputs": [],
   "source": [
    "#Partition\n",
    "    #Choose end to be pivot\n",
    "    #Set Pindex to the start of the array, compare and swap, increase\n",
    "    #Swap Pindex with end\n",
    "    \n",
    "def Partition(A,start,end):\n",
    "    pivot = A[end]\n",
    "    Pindex = start\n",
    "    for i in range(start,end):\n",
    "        if A[i] < pivot:\n",
    "            A[Pindex],A[i] = A[i],A[Pindex] #swap\n",
    "            Pindex += 1\n",
    "    A[Pindex],A[end] = A[end],A[Pindex]\n",
    "    return Pindex"
   ]
  },
  {
   "cell_type": "code",
   "execution_count": 14,
   "metadata": {},
   "outputs": [],
   "source": [
    "#Random Partition\n",
    "    #generate a random number using python library function to avoid \"worst case\"\n",
    "    #rest is the same as the Partition above\n",
    "    \n",
    "from random import *\n",
    "def Random_Partition(A,start,end):\n",
    "    Pindex = randint(start,end)\n",
    "    A[end],A[Pindex] = A[Pindex],A[end] #swap\n",
    "    Pindex = Partition(A,start,end)\n",
    "    return Pindex"
   ]
  },
  {
   "cell_type": "code",
   "execution_count": 15,
   "metadata": {},
   "outputs": [],
   "source": [
    "#Quick Sort\n",
    "    #Partition first\n",
    "    #Keep on calling the subarrays recursively\n",
    "    #Exit Condition\n",
    "    \n",
    "def QuickSort(A,start,end):\n",
    "    if start >= end:\n",
    "        return\n",
    "    Pindex = Random_Partition(A,start,end)\n",
    "    QuickSort(A,start,Pindex-1)\n",
    "    QuickSort(A,Pindex+1,end)"
   ]
  },
  {
   "cell_type": "code",
   "execution_count": 16,
   "metadata": {},
   "outputs": [
    {
     "name": "stdout",
     "output_type": "stream",
     "text": [
      "Please input an array of integers(seperated by spaces): 9 7 5 3 1 8 6 4 2\n",
      "Before sorting: \n",
      "[9, 7, 5, 3, 1, 8, 6, 4, 2]\n",
      "After sorting: \n",
      "[1, 2, 3, 4, 5, 6, 7, 8, 9]\n"
     ]
    }
   ],
   "source": [
    "#implementation of Quick Sort\n",
    "\n",
    "x = input(\"Please input an array of integers(seperated by spaces): \")\n",
    "A = []\n",
    "A = (x.split(\" \"))\n",
    "n = len(A)\n",
    "for i in range(n):\n",
    "    A[i] = int(A[i])\n",
    "print(\"Before sorting: \")\n",
    "print(A)\n",
    "QuickSort(A,0,n-1)\n",
    "print(\"After sorting: \")\n",
    "print(A)"
   ]
  },
  {
   "cell_type": "markdown",
   "metadata": {},
   "source": [
    "<a id='the_destination'></a>"
   ]
  },
  {
   "cell_type": "markdown",
   "metadata": {},
   "source": [
    "## Time Complexity Testing\n",
    "\n",
    "| SelectionSort | BubbleSort | InsertionSort | MergeSort | QuickSort |\n",
    "|---------------|------------|---------------|-----------|-----------|\n",
    "|   $n^2$       | $n^2$      |   $n^2$       |  $nlogn$  |  $nlogn$  |"
   ]
  },
  {
   "cell_type": "code",
   "execution_count": 17,
   "metadata": {},
   "outputs": [
    {
     "name": "stdout",
     "output_type": "stream",
     "text": [
      "Please input the size of integer array you want to generate: 10000\n",
      "SelectionSort Time: 4.293323040008545\n"
     ]
    }
   ],
   "source": [
    "#Time complexity test(Selection Sort)\n",
    "#sample io:\n",
    "    #Please input the size of integer array you want to generate: 10000\n",
    "    #SelectionSort Time: 4.293323040008545\n",
    "    \n",
    "import time\n",
    "\n",
    "from random import *\n",
    "Size = int(input(\"Please input the size of integer array you want to generate: \"))\n",
    "A = []\n",
    "for i in range(Size):\n",
    "    x = randint(1,100000)\n",
    "    A.append(x)\n",
    "n = len(A)\n",
    "\n",
    "start = time.time()\n",
    "SelectionSort(A,n)\n",
    "end = time.time()\n",
    "\n",
    "print(\"SelectionSort Time:\",end - start)"
   ]
  },
  {
   "cell_type": "code",
   "execution_count": 18,
   "metadata": {},
   "outputs": [
    {
     "name": "stdout",
     "output_type": "stream",
     "text": [
      "Please input the size of integer array you want to generate: 10000\n",
      "BubbleSort Time: 10.547523975372314\n"
     ]
    }
   ],
   "source": [
    "#Time complexity test(Bubble Sort)\n",
    "#sample io:\n",
    "    #Please input the size of integer array you want to generate: 10000\n",
    "    #BubbleSort Time: 10.547523975372314\n",
    "    \n",
    "import time\n",
    "\n",
    "from random import *\n",
    "Size = int(input(\"Please input the size of integer array you want to generate: \"))\n",
    "A = []\n",
    "for i in range(Size):\n",
    "    x = randint(1,100000)\n",
    "    A.append(x)\n",
    "n = len(A)\n",
    "\n",
    "start = time.time()\n",
    "BubbleSort(A,n)\n",
    "end = time.time()\n",
    "\n",
    "print(\"BubbleSort Time:\",end - start)"
   ]
  },
  {
   "cell_type": "code",
   "execution_count": 19,
   "metadata": {},
   "outputs": [
    {
     "name": "stdout",
     "output_type": "stream",
     "text": [
      "Please input the size of integer array you want to generate: 10000\n",
      "InsertionSort Time: 15.214432001113892\n"
     ]
    }
   ],
   "source": [
    "#Time complexity test(Insertion Sort)\n",
    "#sample io:\n",
    "    #Please input the size of integer array you want to generate: 10000\n",
    "    #InsertionSort Time: 15.214432001113892\n",
    "    \n",
    "import time\n",
    "\n",
    "from random import *\n",
    "Size = int(input(\"Please input the size of integer array you want to generate: \"))\n",
    "A = []\n",
    "for i in range(Size):\n",
    "    x = randint(1,100000)\n",
    "    A.append(x)\n",
    "n = len(A)\n",
    "\n",
    "start = time.time()\n",
    "InsertionSort(A,n)\n",
    "end = time.time()\n",
    "\n",
    "print(\"InsertionSort Time:\",end - start)"
   ]
  },
  {
   "cell_type": "code",
   "execution_count": 20,
   "metadata": {},
   "outputs": [
    {
     "name": "stdout",
     "output_type": "stream",
     "text": [
      "Please input the size of integer array you want to generate: 10000\n",
      "MergeSort Time: 0.0727841854095459\n"
     ]
    }
   ],
   "source": [
    "#Time complexity test(Merge Sort)\n",
    "#sample io:\n",
    "    #Please input the size of integer array you want to generate: 10000\n",
    "    #MergeSort Time: 0.0727841854095459\n",
    "    \n",
    "import time\n",
    "\n",
    "from random import *\n",
    "Size = int(input(\"Please input the size of integer array you want to generate: \"))\n",
    "A = []\n",
    "for i in range(Size):\n",
    "    x = randint(1,100000)\n",
    "    A.append(x)\n",
    "n = len(A)\n",
    "\n",
    "start = time.time()\n",
    "MergeSort(A,0,n-1)\n",
    "end = time.time()\n",
    "\n",
    "print(\"MergeSort Time:\",end - start)"
   ]
  },
  {
   "cell_type": "code",
   "execution_count": 21,
   "metadata": {},
   "outputs": [
    {
     "name": "stdout",
     "output_type": "stream",
     "text": [
      "Please input the size of integer array you want to generate: 10000\n",
      "QuickSort Time: 0.04253411293029785\n"
     ]
    }
   ],
   "source": [
    "#Time complexity test(Quick Sort)\n",
    "#sample io:\n",
    "    #Please input the size of integer array you want to generate: 10000\n",
    "    #QuickSort Time: 0.04253411293029785\n",
    "    \n",
    "import time\n",
    "\n",
    "from random import *\n",
    "Size = int(input(\"Please input the size of integer array you want to generate: \"))\n",
    "A = []\n",
    "for i in range(Size):\n",
    "    x = randint(1,100000)\n",
    "    A.append(x)\n",
    "n = len(A)\n",
    "\n",
    "start = time.time()\n",
    "QuickSort(A,0,n-1)\n",
    "end = time.time()\n",
    "\n",
    "print(\"QuickSort Time:\",end - start)"
   ]
  },
  {
   "cell_type": "markdown",
   "metadata": {},
   "source": [
    "                        \n",
    "                                                                                           Josh, Liao Yan 13/10/2018"
   ]
  }
 ],
 "metadata": {
  "kernelspec": {
   "display_name": "Python 3",
   "language": "python",
   "name": "python3"
  },
  "language_info": {
   "codemirror_mode": {
    "name": "ipython",
    "version": 3
   },
   "file_extension": ".py",
   "mimetype": "text/x-python",
   "name": "python",
   "nbconvert_exporter": "python",
   "pygments_lexer": "ipython3",
   "version": "3.7.0"
  }
 },
 "nbformat": 4,
 "nbformat_minor": 2
}
